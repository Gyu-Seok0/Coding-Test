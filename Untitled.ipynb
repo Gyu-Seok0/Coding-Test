{
 "cells": [
  {
   "cell_type": "code",
   "execution_count": null,
   "id": "22d1e732",
   "metadata": {},
   "outputs": [],
   "source": [
    "1\n"
   ]
  },
  {
   "cell_type": "code",
   "execution_count": null,
   "id": "3a0ad4de",
   "metadata": {},
   "outputs": [],
   "source": []
  }
 ],
 "metadata": {
  "kernelspec": {
   "display_name": "Python 3 (ipykernel)",
   "language": "python",
   "name": "python3"
  }
 },
 "nbformat": 4,
 "nbformat_minor": 5
}
